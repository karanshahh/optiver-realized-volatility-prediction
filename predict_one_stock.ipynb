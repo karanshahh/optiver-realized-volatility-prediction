{
 "cells": [
  {
   "cell_type": "markdown",
   "metadata": {},
   "source": [
    "# Optiver Realized Volatility Prediction for 1 stock\n",
    "\n",
    "This competition's main objective is to predict short-term volatility for 112 stocks. In this file, I'll be attempting to do so for one stock, and then replicate that process for the rest."
   ]
  },
  {
   "cell_type": "code",
   "execution_count": 112,
   "metadata": {},
   "outputs": [],
   "source": [
    "# Install pandas if not already installed\n",
    "import pandas as pd\n",
    "import numpy as np\n",
    "import glob"
   ]
  },
  {
   "cell_type": "code",
   "execution_count": 113,
   "metadata": {},
   "outputs": [
    {
     "data": {
      "text/html": [
       "<div>\n",
       "<style scoped>\n",
       "    .dataframe tbody tr th:only-of-type {\n",
       "        vertical-align: middle;\n",
       "    }\n",
       "\n",
       "    .dataframe tbody tr th {\n",
       "        vertical-align: top;\n",
       "    }\n",
       "\n",
       "    .dataframe thead th {\n",
       "        text-align: right;\n",
       "    }\n",
       "</style>\n",
       "<table border=\"1\" class=\"dataframe\">\n",
       "  <thead>\n",
       "    <tr style=\"text-align: right;\">\n",
       "      <th></th>\n",
       "      <th>time_id</th>\n",
       "      <th>seconds_in_bucket</th>\n",
       "      <th>bid_price1</th>\n",
       "      <th>ask_price1</th>\n",
       "      <th>bid_price2</th>\n",
       "      <th>ask_price2</th>\n",
       "      <th>bid_size1</th>\n",
       "      <th>ask_size1</th>\n",
       "      <th>bid_size2</th>\n",
       "      <th>ask_size2</th>\n",
       "    </tr>\n",
       "  </thead>\n",
       "  <tbody>\n",
       "    <tr>\n",
       "      <th>0</th>\n",
       "      <td>5</td>\n",
       "      <td>0</td>\n",
       "      <td>1.001422</td>\n",
       "      <td>1.002301</td>\n",
       "      <td>1.00137</td>\n",
       "      <td>1.002353</td>\n",
       "      <td>3</td>\n",
       "      <td>226</td>\n",
       "      <td>2</td>\n",
       "      <td>100</td>\n",
       "    </tr>\n",
       "    <tr>\n",
       "      <th>1</th>\n",
       "      <td>5</td>\n",
       "      <td>1</td>\n",
       "      <td>1.001422</td>\n",
       "      <td>1.002301</td>\n",
       "      <td>1.00137</td>\n",
       "      <td>1.002353</td>\n",
       "      <td>3</td>\n",
       "      <td>100</td>\n",
       "      <td>2</td>\n",
       "      <td>100</td>\n",
       "    </tr>\n",
       "    <tr>\n",
       "      <th>2</th>\n",
       "      <td>5</td>\n",
       "      <td>5</td>\n",
       "      <td>1.001422</td>\n",
       "      <td>1.002301</td>\n",
       "      <td>1.00137</td>\n",
       "      <td>1.002405</td>\n",
       "      <td>3</td>\n",
       "      <td>100</td>\n",
       "      <td>2</td>\n",
       "      <td>100</td>\n",
       "    </tr>\n",
       "    <tr>\n",
       "      <th>3</th>\n",
       "      <td>5</td>\n",
       "      <td>6</td>\n",
       "      <td>1.001422</td>\n",
       "      <td>1.002301</td>\n",
       "      <td>1.00137</td>\n",
       "      <td>1.002405</td>\n",
       "      <td>3</td>\n",
       "      <td>126</td>\n",
       "      <td>2</td>\n",
       "      <td>100</td>\n",
       "    </tr>\n",
       "    <tr>\n",
       "      <th>4</th>\n",
       "      <td>5</td>\n",
       "      <td>7</td>\n",
       "      <td>1.001422</td>\n",
       "      <td>1.002301</td>\n",
       "      <td>1.00137</td>\n",
       "      <td>1.002405</td>\n",
       "      <td>3</td>\n",
       "      <td>126</td>\n",
       "      <td>2</td>\n",
       "      <td>100</td>\n",
       "    </tr>\n",
       "  </tbody>\n",
       "</table>\n",
       "</div>"
      ],
      "text/plain": [
       "   time_id  seconds_in_bucket  bid_price1  ask_price1  bid_price2  ask_price2  \\\n",
       "0        5                  0    1.001422    1.002301     1.00137    1.002353   \n",
       "1        5                  1    1.001422    1.002301     1.00137    1.002353   \n",
       "2        5                  5    1.001422    1.002301     1.00137    1.002405   \n",
       "3        5                  6    1.001422    1.002301     1.00137    1.002405   \n",
       "4        5                  7    1.001422    1.002301     1.00137    1.002405   \n",
       "\n",
       "   bid_size1  ask_size1  bid_size2  ask_size2  \n",
       "0          3        226          2        100  \n",
       "1          3        100          2        100  \n",
       "2          3        100          2        100  \n",
       "3          3        126          2        100  \n",
       "4          3        126          2        100  "
      ]
     },
     "execution_count": 113,
     "metadata": {},
     "output_type": "execute_result"
    }
   ],
   "source": [
    "stock_id = 0\n",
    "book_example = pd.read_parquet('input/book_train.parquet/stock_id=0')\n",
    "book_example=book_example[book_example['time_id']==5]\n",
    "book_example.head()"
   ]
  },
  {
   "cell_type": "code",
   "execution_count": 114,
   "metadata": {},
   "outputs": [
    {
     "data": {
      "text/html": [
       "<div>\n",
       "<style scoped>\n",
       "    .dataframe tbody tr th:only-of-type {\n",
       "        vertical-align: middle;\n",
       "    }\n",
       "\n",
       "    .dataframe tbody tr th {\n",
       "        vertical-align: top;\n",
       "    }\n",
       "\n",
       "    .dataframe thead th {\n",
       "        text-align: right;\n",
       "    }\n",
       "</style>\n",
       "<table border=\"1\" class=\"dataframe\">\n",
       "  <thead>\n",
       "    <tr style=\"text-align: right;\">\n",
       "      <th></th>\n",
       "      <th>time_id</th>\n",
       "      <th>seconds_in_bucket</th>\n",
       "      <th>price</th>\n",
       "      <th>size</th>\n",
       "      <th>order_count</th>\n",
       "    </tr>\n",
       "  </thead>\n",
       "  <tbody>\n",
       "    <tr>\n",
       "      <th>0</th>\n",
       "      <td>5</td>\n",
       "      <td>21</td>\n",
       "      <td>1.002301</td>\n",
       "      <td>326</td>\n",
       "      <td>12</td>\n",
       "    </tr>\n",
       "    <tr>\n",
       "      <th>1</th>\n",
       "      <td>5</td>\n",
       "      <td>46</td>\n",
       "      <td>1.002778</td>\n",
       "      <td>128</td>\n",
       "      <td>4</td>\n",
       "    </tr>\n",
       "    <tr>\n",
       "      <th>2</th>\n",
       "      <td>5</td>\n",
       "      <td>50</td>\n",
       "      <td>1.002818</td>\n",
       "      <td>55</td>\n",
       "      <td>1</td>\n",
       "    </tr>\n",
       "    <tr>\n",
       "      <th>3</th>\n",
       "      <td>5</td>\n",
       "      <td>57</td>\n",
       "      <td>1.003155</td>\n",
       "      <td>121</td>\n",
       "      <td>5</td>\n",
       "    </tr>\n",
       "    <tr>\n",
       "      <th>4</th>\n",
       "      <td>5</td>\n",
       "      <td>68</td>\n",
       "      <td>1.003646</td>\n",
       "      <td>4</td>\n",
       "      <td>1</td>\n",
       "    </tr>\n",
       "  </tbody>\n",
       "</table>\n",
       "</div>"
      ],
      "text/plain": [
       "   time_id  seconds_in_bucket     price  size  order_count\n",
       "0        5                 21  1.002301   326           12\n",
       "1        5                 46  1.002778   128            4\n",
       "2        5                 50  1.002818    55            1\n",
       "3        5                 57  1.003155   121            5\n",
       "4        5                 68  1.003646     4            1"
      ]
     },
     "execution_count": 114,
     "metadata": {},
     "output_type": "execute_result"
    }
   ],
   "source": [
    "trade_example = pd.read_parquet('input/trade_train.parquet/stock_id=0')\n",
    "trade_example=trade_example[trade_example['time_id']==5]\n",
    "trade_example.head()"
   ]
  },
  {
   "cell_type": "code",
   "execution_count": 115,
   "metadata": {},
   "outputs": [],
   "source": [
    "def calculate_wap(bid_price1, ask_price1, bid_size1, ask_size1):\n",
    "    return (bid_price1 * ask_size1 + ask_price1 * bid_size1) / (bid_size1 + ask_size1)"
   ]
  },
  {
   "cell_type": "code",
   "execution_count": 116,
   "metadata": {},
   "outputs": [
    {
     "data": {
      "text/html": [
       "<div>\n",
       "<style scoped>\n",
       "    .dataframe tbody tr th:only-of-type {\n",
       "        vertical-align: middle;\n",
       "    }\n",
       "\n",
       "    .dataframe tbody tr th {\n",
       "        vertical-align: top;\n",
       "    }\n",
       "\n",
       "    .dataframe thead th {\n",
       "        text-align: right;\n",
       "    }\n",
       "</style>\n",
       "<table border=\"1\" class=\"dataframe\">\n",
       "  <thead>\n",
       "    <tr style=\"text-align: right;\">\n",
       "      <th></th>\n",
       "      <th>time_id</th>\n",
       "      <th>seconds_in_bucket</th>\n",
       "      <th>bid_price1</th>\n",
       "      <th>ask_price1</th>\n",
       "      <th>bid_price2</th>\n",
       "      <th>ask_price2</th>\n",
       "      <th>bid_size1</th>\n",
       "      <th>ask_size1</th>\n",
       "      <th>bid_size2</th>\n",
       "      <th>ask_size2</th>\n",
       "      <th>wap</th>\n",
       "    </tr>\n",
       "  </thead>\n",
       "  <tbody>\n",
       "    <tr>\n",
       "      <th>0</th>\n",
       "      <td>5</td>\n",
       "      <td>0</td>\n",
       "      <td>1.001422</td>\n",
       "      <td>1.002301</td>\n",
       "      <td>1.00137</td>\n",
       "      <td>1.002353</td>\n",
       "      <td>3</td>\n",
       "      <td>226</td>\n",
       "      <td>2</td>\n",
       "      <td>100</td>\n",
       "      <td>1.001434</td>\n",
       "    </tr>\n",
       "    <tr>\n",
       "      <th>1</th>\n",
       "      <td>5</td>\n",
       "      <td>1</td>\n",
       "      <td>1.001422</td>\n",
       "      <td>1.002301</td>\n",
       "      <td>1.00137</td>\n",
       "      <td>1.002353</td>\n",
       "      <td>3</td>\n",
       "      <td>100</td>\n",
       "      <td>2</td>\n",
       "      <td>100</td>\n",
       "      <td>1.001448</td>\n",
       "    </tr>\n",
       "    <tr>\n",
       "      <th>2</th>\n",
       "      <td>5</td>\n",
       "      <td>5</td>\n",
       "      <td>1.001422</td>\n",
       "      <td>1.002301</td>\n",
       "      <td>1.00137</td>\n",
       "      <td>1.002405</td>\n",
       "      <td>3</td>\n",
       "      <td>100</td>\n",
       "      <td>2</td>\n",
       "      <td>100</td>\n",
       "      <td>1.001448</td>\n",
       "    </tr>\n",
       "    <tr>\n",
       "      <th>3</th>\n",
       "      <td>5</td>\n",
       "      <td>6</td>\n",
       "      <td>1.001422</td>\n",
       "      <td>1.002301</td>\n",
       "      <td>1.00137</td>\n",
       "      <td>1.002405</td>\n",
       "      <td>3</td>\n",
       "      <td>126</td>\n",
       "      <td>2</td>\n",
       "      <td>100</td>\n",
       "      <td>1.001443</td>\n",
       "    </tr>\n",
       "    <tr>\n",
       "      <th>4</th>\n",
       "      <td>5</td>\n",
       "      <td>7</td>\n",
       "      <td>1.001422</td>\n",
       "      <td>1.002301</td>\n",
       "      <td>1.00137</td>\n",
       "      <td>1.002405</td>\n",
       "      <td>3</td>\n",
       "      <td>126</td>\n",
       "      <td>2</td>\n",
       "      <td>100</td>\n",
       "      <td>1.001443</td>\n",
       "    </tr>\n",
       "  </tbody>\n",
       "</table>\n",
       "</div>"
      ],
      "text/plain": [
       "   time_id  seconds_in_bucket  bid_price1  ask_price1  bid_price2  ask_price2  \\\n",
       "0        5                  0    1.001422    1.002301     1.00137    1.002353   \n",
       "1        5                  1    1.001422    1.002301     1.00137    1.002353   \n",
       "2        5                  5    1.001422    1.002301     1.00137    1.002405   \n",
       "3        5                  6    1.001422    1.002301     1.00137    1.002405   \n",
       "4        5                  7    1.001422    1.002301     1.00137    1.002405   \n",
       "\n",
       "   bid_size1  ask_size1  bid_size2  ask_size2       wap  \n",
       "0          3        226          2        100  1.001434  \n",
       "1          3        100          2        100  1.001448  \n",
       "2          3        100          2        100  1.001448  \n",
       "3          3        126          2        100  1.001443  \n",
       "4          3        126          2        100  1.001443  "
      ]
     },
     "execution_count": 116,
     "metadata": {},
     "output_type": "execute_result"
    }
   ],
   "source": [
    "book_example['wap'] = (book_example['bid_price1'] * book_example['ask_size1'] +\n",
    "                                book_example['ask_price1'] * book_example['bid_size1']) / (\n",
    "                                       book_example['bid_size1']+ book_example['ask_size1'])\n",
    "book_example.head()"
   ]
  },
  {
   "cell_type": "code",
   "execution_count": 117,
   "metadata": {},
   "outputs": [],
   "source": [
    "import plotly.express as px"
   ]
  },
  {
   "cell_type": "code",
   "execution_count": 118,
   "metadata": {},
   "outputs": [
    {
     "data": {
      "application/vnd.plotly.v1+json": {
       "config": {
        "plotlyServerURL": "https://plot.ly"
       },
       "data": [
        {
         "hovertemplate": "seconds_in_bucket=%{x}<br>wap=%{y}<extra></extra>",
         "legendgroup": "",
         "line": {
          "color": "#636efa",
          "dash": "solid"
         },
         "marker": {
          "symbol": "circle"
         },
         "mode": "lines",
         "name": "",
         "orientation": "v",
         "showlegend": false,
         "type": "scatter",
         "x": {
          "bdata": "AAABAAUABgAHAAsADAAOAA8AEAARABIAEwAVABgAGQAsAC4ALwAwADIAMwA3ADkAOwA8AD8ARABFAE4ATwBRAFMAVQBaAFwAXQBeAGEAYgBlAGcAaQBqAG4AbwBxAHIAcwB2AHcAegB7AHwAfgB/AIAAgQCEAIUAhgCKAIwAjQCPAJAAkQCTAJQAlQCWAJcAmACZAJoAngCfAKAAoQCkAKUApgCnAKgAqQCrAK0ArgCvALEAsgC1ALYAtwC5ALoAuwC8AL0AvgC/AMAAwQDCAMMAxADFAMYAxwDIAMkAywDMAM0AzgDPANEA0wDUANUA1wDYANoA2wDdAN4A3wDgAOEA4gDjAOQA5gDnAOgA6QDqAOsA7QDvAPgA/QD+AP8AAAEBAQIBAwEEAQcBCAEJAQ0BFgEaARsBHwEgASIBJQEnASgBKgEtAS8BMAExATIBNAE1ATYBNwE4ATkBOgE8AUIBQwFJAUsBUAFSAVQBWQFcAV4BYQFkAWsBbQFuAW8BdgF6AXwBfgGBAYIBhAGFAYcBigGOAY8BkAGRAZIBkwGUAZYBmgGbAaABqQGqAasBrAGuAa8BsQGyAbMBtQG2AbgBuQG6AbsBvAG9Ab4BvwHAAcEB0AHRAdIB0wHWAdcB2AHZAdoB2wHdAd4B3wHoAekB7wHwAfIB9wH/AQECAgIDAgQCBgIHAggCCQIKAgsCDAINAg4CEAITAhQCFgIXAhoCGwIcAh0CHgIhAiICJAIlAiYCJwIoAisCLgIxAjICMwI7AjwCPQI+Aj8CQwJFAkgCSQJKAksCTAJRAg==",
          "dtype": "i2"
         },
         "xaxis": "x",
         "y": {
          "bdata": "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",
          "dtype": "f8"
         },
         "yaxis": "y"
        }
       ],
       "layout": {
        "legend": {
         "tracegroupgap": 0
        },
        "template": {
         "data": {
          "bar": [
           {
            "error_x": {
             "color": "#2a3f5f"
            },
            "error_y": {
             "color": "#2a3f5f"
            },
            "marker": {
             "line": {
              "color": "#E5ECF6",
              "width": 0.5
             },
             "pattern": {
              "fillmode": "overlay",
              "size": 10,
              "solidity": 0.2
             }
            },
            "type": "bar"
           }
          ],
          "barpolar": [
           {
            "marker": {
             "line": {
              "color": "#E5ECF6",
              "width": 0.5
             },
             "pattern": {
              "fillmode": "overlay",
              "size": 10,
              "solidity": 0.2
             }
            },
            "type": "barpolar"
           }
          ],
          "carpet": [
           {
            "aaxis": {
             "endlinecolor": "#2a3f5f",
             "gridcolor": "white",
             "linecolor": "white",
             "minorgridcolor": "white",
             "startlinecolor": "#2a3f5f"
            },
            "baxis": {
             "endlinecolor": "#2a3f5f",
             "gridcolor": "white",
             "linecolor": "white",
             "minorgridcolor": "white",
             "startlinecolor": "#2a3f5f"
            },
            "type": "carpet"
           }
          ],
          "choropleth": [
           {
            "colorbar": {
             "outlinewidth": 0,
             "ticks": ""
            },
            "type": "choropleth"
           }
          ],
          "contour": [
           {
            "colorbar": {
             "outlinewidth": 0,
             "ticks": ""
            },
            "colorscale": [
             [
              0,
              "#0d0887"
             ],
             [
              0.1111111111111111,
              "#46039f"
             ],
             [
              0.2222222222222222,
              "#7201a8"
             ],
             [
              0.3333333333333333,
              "#9c179e"
             ],
             [
              0.4444444444444444,
              "#bd3786"
             ],
             [
              0.5555555555555556,
              "#d8576b"
             ],
             [
              0.6666666666666666,
              "#ed7953"
             ],
             [
              0.7777777777777778,
              "#fb9f3a"
             ],
             [
              0.8888888888888888,
              "#fdca26"
             ],
             [
              1,
              "#f0f921"
             ]
            ],
            "type": "contour"
           }
          ],
          "contourcarpet": [
           {
            "colorbar": {
             "outlinewidth": 0,
             "ticks": ""
            },
            "type": "contourcarpet"
           }
          ],
          "heatmap": [
           {
            "colorbar": {
             "outlinewidth": 0,
             "ticks": ""
            },
            "colorscale": [
             [
              0,
              "#0d0887"
             ],
             [
              0.1111111111111111,
              "#46039f"
             ],
             [
              0.2222222222222222,
              "#7201a8"
             ],
             [
              0.3333333333333333,
              "#9c179e"
             ],
             [
              0.4444444444444444,
              "#bd3786"
             ],
             [
              0.5555555555555556,
              "#d8576b"
             ],
             [
              0.6666666666666666,
              "#ed7953"
             ],
             [
              0.7777777777777778,
              "#fb9f3a"
             ],
             [
              0.8888888888888888,
              "#fdca26"
             ],
             [
              1,
              "#f0f921"
             ]
            ],
            "type": "heatmap"
           }
          ],
          "histogram": [
           {
            "marker": {
             "pattern": {
              "fillmode": "overlay",
              "size": 10,
              "solidity": 0.2
             }
            },
            "type": "histogram"
           }
          ],
          "histogram2d": [
           {
            "colorbar": {
             "outlinewidth": 0,
             "ticks": ""
            },
            "colorscale": [
             [
              0,
              "#0d0887"
             ],
             [
              0.1111111111111111,
              "#46039f"
             ],
             [
              0.2222222222222222,
              "#7201a8"
             ],
             [
              0.3333333333333333,
              "#9c179e"
             ],
             [
              0.4444444444444444,
              "#bd3786"
             ],
             [
              0.5555555555555556,
              "#d8576b"
             ],
             [
              0.6666666666666666,
              "#ed7953"
             ],
             [
              0.7777777777777778,
              "#fb9f3a"
             ],
             [
              0.8888888888888888,
              "#fdca26"
             ],
             [
              1,
              "#f0f921"
             ]
            ],
            "type": "histogram2d"
           }
          ],
          "histogram2dcontour": [
           {
            "colorbar": {
             "outlinewidth": 0,
             "ticks": ""
            },
            "colorscale": [
             [
              0,
              "#0d0887"
             ],
             [
              0.1111111111111111,
              "#46039f"
             ],
             [
              0.2222222222222222,
              "#7201a8"
             ],
             [
              0.3333333333333333,
              "#9c179e"
             ],
             [
              0.4444444444444444,
              "#bd3786"
             ],
             [
              0.5555555555555556,
              "#d8576b"
             ],
             [
              0.6666666666666666,
              "#ed7953"
             ],
             [
              0.7777777777777778,
              "#fb9f3a"
             ],
             [
              0.8888888888888888,
              "#fdca26"
             ],
             [
              1,
              "#f0f921"
             ]
            ],
            "type": "histogram2dcontour"
           }
          ],
          "mesh3d": [
           {
            "colorbar": {
             "outlinewidth": 0,
             "ticks": ""
            },
            "type": "mesh3d"
           }
          ],
          "parcoords": [
           {
            "line": {
             "colorbar": {
              "outlinewidth": 0,
              "ticks": ""
             }
            },
            "type": "parcoords"
           }
          ],
          "pie": [
           {
            "automargin": true,
            "type": "pie"
           }
          ],
          "scatter": [
           {
            "fillpattern": {
             "fillmode": "overlay",
             "size": 10,
             "solidity": 0.2
            },
            "type": "scatter"
           }
          ],
          "scatter3d": [
           {
            "line": {
             "colorbar": {
              "outlinewidth": 0,
              "ticks": ""
             }
            },
            "marker": {
             "colorbar": {
              "outlinewidth": 0,
              "ticks": ""
             }
            },
            "type": "scatter3d"
           }
          ],
          "scattercarpet": [
           {
            "marker": {
             "colorbar": {
              "outlinewidth": 0,
              "ticks": ""
             }
            },
            "type": "scattercarpet"
           }
          ],
          "scattergeo": [
           {
            "marker": {
             "colorbar": {
              "outlinewidth": 0,
              "ticks": ""
             }
            },
            "type": "scattergeo"
           }
          ],
          "scattergl": [
           {
            "marker": {
             "colorbar": {
              "outlinewidth": 0,
              "ticks": ""
             }
            },
            "type": "scattergl"
           }
          ],
          "scattermap": [
           {
            "marker": {
             "colorbar": {
              "outlinewidth": 0,
              "ticks": ""
             }
            },
            "type": "scattermap"
           }
          ],
          "scattermapbox": [
           {
            "marker": {
             "colorbar": {
              "outlinewidth": 0,
              "ticks": ""
             }
            },
            "type": "scattermapbox"
           }
          ],
          "scatterpolar": [
           {
            "marker": {
             "colorbar": {
              "outlinewidth": 0,
              "ticks": ""
             }
            },
            "type": "scatterpolar"
           }
          ],
          "scatterpolargl": [
           {
            "marker": {
             "colorbar": {
              "outlinewidth": 0,
              "ticks": ""
             }
            },
            "type": "scatterpolargl"
           }
          ],
          "scatterternary": [
           {
            "marker": {
             "colorbar": {
              "outlinewidth": 0,
              "ticks": ""
             }
            },
            "type": "scatterternary"
           }
          ],
          "surface": [
           {
            "colorbar": {
             "outlinewidth": 0,
             "ticks": ""
            },
            "colorscale": [
             [
              0,
              "#0d0887"
             ],
             [
              0.1111111111111111,
              "#46039f"
             ],
             [
              0.2222222222222222,
              "#7201a8"
             ],
             [
              0.3333333333333333,
              "#9c179e"
             ],
             [
              0.4444444444444444,
              "#bd3786"
             ],
             [
              0.5555555555555556,
              "#d8576b"
             ],
             [
              0.6666666666666666,
              "#ed7953"
             ],
             [
              0.7777777777777778,
              "#fb9f3a"
             ],
             [
              0.8888888888888888,
              "#fdca26"
             ],
             [
              1,
              "#f0f921"
             ]
            ],
            "type": "surface"
           }
          ],
          "table": [
           {
            "cells": {
             "fill": {
              "color": "#EBF0F8"
             },
             "line": {
              "color": "white"
             }
            },
            "header": {
             "fill": {
              "color": "#C8D4E3"
             },
             "line": {
              "color": "white"
             }
            },
            "type": "table"
           }
          ]
         },
         "layout": {
          "annotationdefaults": {
           "arrowcolor": "#2a3f5f",
           "arrowhead": 0,
           "arrowwidth": 1
          },
          "autotypenumbers": "strict",
          "coloraxis": {
           "colorbar": {
            "outlinewidth": 0,
            "ticks": ""
           }
          },
          "colorscale": {
           "diverging": [
            [
             0,
             "#8e0152"
            ],
            [
             0.1,
             "#c51b7d"
            ],
            [
             0.2,
             "#de77ae"
            ],
            [
             0.3,
             "#f1b6da"
            ],
            [
             0.4,
             "#fde0ef"
            ],
            [
             0.5,
             "#f7f7f7"
            ],
            [
             0.6,
             "#e6f5d0"
            ],
            [
             0.7,
             "#b8e186"
            ],
            [
             0.8,
             "#7fbc41"
            ],
            [
             0.9,
             "#4d9221"
            ],
            [
             1,
             "#276419"
            ]
           ],
           "sequential": [
            [
             0,
             "#0d0887"
            ],
            [
             0.1111111111111111,
             "#46039f"
            ],
            [
             0.2222222222222222,
             "#7201a8"
            ],
            [
             0.3333333333333333,
             "#9c179e"
            ],
            [
             0.4444444444444444,
             "#bd3786"
            ],
            [
             0.5555555555555556,
             "#d8576b"
            ],
            [
             0.6666666666666666,
             "#ed7953"
            ],
            [
             0.7777777777777778,
             "#fb9f3a"
            ],
            [
             0.8888888888888888,
             "#fdca26"
            ],
            [
             1,
             "#f0f921"
            ]
           ],
           "sequentialminus": [
            [
             0,
             "#0d0887"
            ],
            [
             0.1111111111111111,
             "#46039f"
            ],
            [
             0.2222222222222222,
             "#7201a8"
            ],
            [
             0.3333333333333333,
             "#9c179e"
            ],
            [
             0.4444444444444444,
             "#bd3786"
            ],
            [
             0.5555555555555556,
             "#d8576b"
            ],
            [
             0.6666666666666666,
             "#ed7953"
            ],
            [
             0.7777777777777778,
             "#fb9f3a"
            ],
            [
             0.8888888888888888,
             "#fdca26"
            ],
            [
             1,
             "#f0f921"
            ]
           ]
          },
          "colorway": [
           "#636efa",
           "#EF553B",
           "#00cc96",
           "#ab63fa",
           "#FFA15A",
           "#19d3f3",
           "#FF6692",
           "#B6E880",
           "#FF97FF",
           "#FECB52"
          ],
          "font": {
           "color": "#2a3f5f"
          },
          "geo": {
           "bgcolor": "white",
           "lakecolor": "white",
           "landcolor": "#E5ECF6",
           "showlakes": true,
           "showland": true,
           "subunitcolor": "white"
          },
          "hoverlabel": {
           "align": "left"
          },
          "hovermode": "closest",
          "mapbox": {
           "style": "light"
          },
          "paper_bgcolor": "white",
          "plot_bgcolor": "#E5ECF6",
          "polar": {
           "angularaxis": {
            "gridcolor": "white",
            "linecolor": "white",
            "ticks": ""
           },
           "bgcolor": "#E5ECF6",
           "radialaxis": {
            "gridcolor": "white",
            "linecolor": "white",
            "ticks": ""
           }
          },
          "scene": {
           "xaxis": {
            "backgroundcolor": "#E5ECF6",
            "gridcolor": "white",
            "gridwidth": 2,
            "linecolor": "white",
            "showbackground": true,
            "ticks": "",
            "zerolinecolor": "white"
           },
           "yaxis": {
            "backgroundcolor": "#E5ECF6",
            "gridcolor": "white",
            "gridwidth": 2,
            "linecolor": "white",
            "showbackground": true,
            "ticks": "",
            "zerolinecolor": "white"
           },
           "zaxis": {
            "backgroundcolor": "#E5ECF6",
            "gridcolor": "white",
            "gridwidth": 2,
            "linecolor": "white",
            "showbackground": true,
            "ticks": "",
            "zerolinecolor": "white"
           }
          },
          "shapedefaults": {
           "line": {
            "color": "#2a3f5f"
           }
          },
          "ternary": {
           "aaxis": {
            "gridcolor": "white",
            "linecolor": "white",
            "ticks": ""
           },
           "baxis": {
            "gridcolor": "white",
            "linecolor": "white",
            "ticks": ""
           },
           "bgcolor": "#E5ECF6",
           "caxis": {
            "gridcolor": "white",
            "linecolor": "white",
            "ticks": ""
           }
          },
          "title": {
           "x": 0.05
          },
          "xaxis": {
           "automargin": true,
           "gridcolor": "white",
           "linecolor": "white",
           "ticks": "",
           "title": {
            "standoff": 15
           },
           "zerolinecolor": "white",
           "zerolinewidth": 2
          },
          "yaxis": {
           "automargin": true,
           "gridcolor": "white",
           "linecolor": "white",
           "ticks": "",
           "title": {
            "standoff": 15
           },
           "zerolinecolor": "white",
           "zerolinewidth": 2
          }
         }
        },
        "title": {
         "text": "WAP of stock_id_0, time_id_5"
        },
        "xaxis": {
         "anchor": "y",
         "domain": [
          0,
          1
         ],
         "title": {
          "text": "seconds_in_bucket"
         }
        },
        "yaxis": {
         "anchor": "x",
         "domain": [
          0,
          1
         ],
         "title": {
          "text": "wap"
         }
        }
       }
      }
     },
     "metadata": {},
     "output_type": "display_data"
    }
   ],
   "source": [
    "fig = px.line(book_example, x=\"seconds_in_bucket\", y=\"wap\", title='WAP of stock_id_0, time_id_5')\n",
    "fig.show()"
   ]
  },
  {
   "cell_type": "code",
   "execution_count": 119,
   "metadata": {},
   "outputs": [],
   "source": [
    "def log_returns(list_stock_prices):\n",
    "    # works because .diff(): \"Calculates the difference of a Dataframe element compared with another element in the Dataframe (default is element in previous row).\"\n",
    "    return np.log(list_stock_prices).diff()"
   ]
  },
  {
   "cell_type": "code",
   "execution_count": 120,
   "metadata": {},
   "outputs": [
    {
     "data": {
      "text/plain": [
       "0           NaN\n",
       "1      0.000014\n",
       "2      0.000000\n",
       "3     -0.000005\n",
       "4      0.000000\n",
       "         ...   \n",
       "297    0.000245\n",
       "298    0.000000\n",
       "299    0.000000\n",
       "300    0.000000\n",
       "301    0.000000\n",
       "Name: wap, Length: 302, dtype: float64"
      ]
     },
     "execution_count": 120,
     "metadata": {},
     "output_type": "execute_result"
    }
   ],
   "source": [
    "log_returns(book_example['wap'])"
   ]
  },
  {
   "cell_type": "code",
   "execution_count": 121,
   "metadata": {},
   "outputs": [],
   "source": [
    "book_example.loc[:, 'log_return'] = log_returns(book_example['wap'])\n",
    "book_example = book_example[~book_example['log_return'].isnull()]"
   ]
  },
  {
   "cell_type": "code",
   "execution_count": 122,
   "metadata": {},
   "outputs": [
    {
     "data": {
      "application/vnd.plotly.v1+json": {
       "config": {
        "plotlyServerURL": "https://plot.ly"
       },
       "data": [
        {
         "hovertemplate": "seconds_in_bucket=%{x}<br>log_return=%{y}<extra></extra>",
         "legendgroup": "",
         "line": {
          "color": "#636efa",
          "dash": "solid"
         },
         "marker": {
          "symbol": "circle"
         },
         "mode": "lines",
         "name": "",
         "orientation": "v",
         "showlegend": false,
         "type": "scatter",
         "x": {
          "bdata": "AQAFAAYABwALAAwADgAPABAAEQASABMAFQAYABkALAAuAC8AMAAyADMANwA5ADsAPAA/AEQARQBOAE8AUQBTAFUAWgBcAF0AXgBhAGIAZQBnAGkAagBuAG8AcQByAHMAdgB3AHoAewB8AH4AfwCAAIEAhACFAIYAigCMAI0AjwCQAJEAkwCUAJUAlgCXAJgAmQCaAJ4AnwCgAKEApAClAKYApwCoAKkAqwCtAK4ArwCxALIAtQC2ALcAuQC6ALsAvAC9AL4AvwDAAMEAwgDDAMQAxQDGAMcAyADJAMsAzADNAM4AzwDRANMA1ADVANcA2ADaANsA3QDeAN8A4ADhAOIA4wDkAOYA5wDoAOkA6gDrAO0A7wD4AP0A/gD/AAABAQECAQMBBAEHAQgBCQENARYBGgEbAR8BIAEiASUBJwEoASoBLQEvATABMQEyATQBNQE2ATcBOAE5AToBPAFCAUMBSQFLAVABUgFUAVkBXAFeAWEBZAFrAW0BbgFvAXYBegF8AX4BgQGCAYQBhQGHAYoBjgGPAZABkQGSAZMBlAGWAZoBmwGgAakBqgGrAawBrgGvAbEBsgGzAbUBtgG4AbkBugG7AbwBvQG+Ab8BwAHBAdAB0QHSAdMB1gHXAdgB2QHaAdsB3QHeAd8B6AHpAe8B8AHyAfcB/wEBAgICAwIEAgYCBwIIAgkCCgILAgwCDQIOAhACEwIUAhYCFwIaAhsCHAIdAh4CIQIiAiQCJQImAicCKAIrAi4CMQIyAjMCOwI8Aj0CPgI/AkMCRQJIAkkCSgJLAkwCUQI=",
          "dtype": "i2"
         },
         "xaxis": "x",
         "y": {
          "bdata": "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",
          "dtype": "f8"
         },
         "yaxis": "y"
        }
       ],
       "layout": {
        "legend": {
         "tracegroupgap": 0
        },
        "template": {
         "data": {
          "bar": [
           {
            "error_x": {
             "color": "#2a3f5f"
            },
            "error_y": {
             "color": "#2a3f5f"
            },
            "marker": {
             "line": {
              "color": "#E5ECF6",
              "width": 0.5
             },
             "pattern": {
              "fillmode": "overlay",
              "size": 10,
              "solidity": 0.2
             }
            },
            "type": "bar"
           }
          ],
          "barpolar": [
           {
            "marker": {
             "line": {
              "color": "#E5ECF6",
              "width": 0.5
             },
             "pattern": {
              "fillmode": "overlay",
              "size": 10,
              "solidity": 0.2
             }
            },
            "type": "barpolar"
           }
          ],
          "carpet": [
           {
            "aaxis": {
             "endlinecolor": "#2a3f5f",
             "gridcolor": "white",
             "linecolor": "white",
             "minorgridcolor": "white",
             "startlinecolor": "#2a3f5f"
            },
            "baxis": {
             "endlinecolor": "#2a3f5f",
             "gridcolor": "white",
             "linecolor": "white",
             "minorgridcolor": "white",
             "startlinecolor": "#2a3f5f"
            },
            "type": "carpet"
           }
          ],
          "choropleth": [
           {
            "colorbar": {
             "outlinewidth": 0,
             "ticks": ""
            },
            "type": "choropleth"
           }
          ],
          "contour": [
           {
            "colorbar": {
             "outlinewidth": 0,
             "ticks": ""
            },
            "colorscale": [
             [
              0,
              "#0d0887"
             ],
             [
              0.1111111111111111,
              "#46039f"
             ],
             [
              0.2222222222222222,
              "#7201a8"
             ],
             [
              0.3333333333333333,
              "#9c179e"
             ],
             [
              0.4444444444444444,
              "#bd3786"
             ],
             [
              0.5555555555555556,
              "#d8576b"
             ],
             [
              0.6666666666666666,
              "#ed7953"
             ],
             [
              0.7777777777777778,
              "#fb9f3a"
             ],
             [
              0.8888888888888888,
              "#fdca26"
             ],
             [
              1,
              "#f0f921"
             ]
            ],
            "type": "contour"
           }
          ],
          "contourcarpet": [
           {
            "colorbar": {
             "outlinewidth": 0,
             "ticks": ""
            },
            "type": "contourcarpet"
           }
          ],
          "heatmap": [
           {
            "colorbar": {
             "outlinewidth": 0,
             "ticks": ""
            },
            "colorscale": [
             [
              0,
              "#0d0887"
             ],
             [
              0.1111111111111111,
              "#46039f"
             ],
             [
              0.2222222222222222,
              "#7201a8"
             ],
             [
              0.3333333333333333,
              "#9c179e"
             ],
             [
              0.4444444444444444,
              "#bd3786"
             ],
             [
              0.5555555555555556,
              "#d8576b"
             ],
             [
              0.6666666666666666,
              "#ed7953"
             ],
             [
              0.7777777777777778,
              "#fb9f3a"
             ],
             [
              0.8888888888888888,
              "#fdca26"
             ],
             [
              1,
              "#f0f921"
             ]
            ],
            "type": "heatmap"
           }
          ],
          "histogram": [
           {
            "marker": {
             "pattern": {
              "fillmode": "overlay",
              "size": 10,
              "solidity": 0.2
             }
            },
            "type": "histogram"
           }
          ],
          "histogram2d": [
           {
            "colorbar": {
             "outlinewidth": 0,
             "ticks": ""
            },
            "colorscale": [
             [
              0,
              "#0d0887"
             ],
             [
              0.1111111111111111,
              "#46039f"
             ],
             [
              0.2222222222222222,
              "#7201a8"
             ],
             [
              0.3333333333333333,
              "#9c179e"
             ],
             [
              0.4444444444444444,
              "#bd3786"
             ],
             [
              0.5555555555555556,
              "#d8576b"
             ],
             [
              0.6666666666666666,
              "#ed7953"
             ],
             [
              0.7777777777777778,
              "#fb9f3a"
             ],
             [
              0.8888888888888888,
              "#fdca26"
             ],
             [
              1,
              "#f0f921"
             ]
            ],
            "type": "histogram2d"
           }
          ],
          "histogram2dcontour": [
           {
            "colorbar": {
             "outlinewidth": 0,
             "ticks": ""
            },
            "colorscale": [
             [
              0,
              "#0d0887"
             ],
             [
              0.1111111111111111,
              "#46039f"
             ],
             [
              0.2222222222222222,
              "#7201a8"
             ],
             [
              0.3333333333333333,
              "#9c179e"
             ],
             [
              0.4444444444444444,
              "#bd3786"
             ],
             [
              0.5555555555555556,
              "#d8576b"
             ],
             [
              0.6666666666666666,
              "#ed7953"
             ],
             [
              0.7777777777777778,
              "#fb9f3a"
             ],
             [
              0.8888888888888888,
              "#fdca26"
             ],
             [
              1,
              "#f0f921"
             ]
            ],
            "type": "histogram2dcontour"
           }
          ],
          "mesh3d": [
           {
            "colorbar": {
             "outlinewidth": 0,
             "ticks": ""
            },
            "type": "mesh3d"
           }
          ],
          "parcoords": [
           {
            "line": {
             "colorbar": {
              "outlinewidth": 0,
              "ticks": ""
             }
            },
            "type": "parcoords"
           }
          ],
          "pie": [
           {
            "automargin": true,
            "type": "pie"
           }
          ],
          "scatter": [
           {
            "fillpattern": {
             "fillmode": "overlay",
             "size": 10,
             "solidity": 0.2
            },
            "type": "scatter"
           }
          ],
          "scatter3d": [
           {
            "line": {
             "colorbar": {
              "outlinewidth": 0,
              "ticks": ""
             }
            },
            "marker": {
             "colorbar": {
              "outlinewidth": 0,
              "ticks": ""
             }
            },
            "type": "scatter3d"
           }
          ],
          "scattercarpet": [
           {
            "marker": {
             "colorbar": {
              "outlinewidth": 0,
              "ticks": ""
             }
            },
            "type": "scattercarpet"
           }
          ],
          "scattergeo": [
           {
            "marker": {
             "colorbar": {
              "outlinewidth": 0,
              "ticks": ""
             }
            },
            "type": "scattergeo"
           }
          ],
          "scattergl": [
           {
            "marker": {
             "colorbar": {
              "outlinewidth": 0,
              "ticks": ""
             }
            },
            "type": "scattergl"
           }
          ],
          "scattermap": [
           {
            "marker": {
             "colorbar": {
              "outlinewidth": 0,
              "ticks": ""
             }
            },
            "type": "scattermap"
           }
          ],
          "scattermapbox": [
           {
            "marker": {
             "colorbar": {
              "outlinewidth": 0,
              "ticks": ""
             }
            },
            "type": "scattermapbox"
           }
          ],
          "scatterpolar": [
           {
            "marker": {
             "colorbar": {
              "outlinewidth": 0,
              "ticks": ""
             }
            },
            "type": "scatterpolar"
           }
          ],
          "scatterpolargl": [
           {
            "marker": {
             "colorbar": {
              "outlinewidth": 0,
              "ticks": ""
             }
            },
            "type": "scatterpolargl"
           }
          ],
          "scatterternary": [
           {
            "marker": {
             "colorbar": {
              "outlinewidth": 0,
              "ticks": ""
             }
            },
            "type": "scatterternary"
           }
          ],
          "surface": [
           {
            "colorbar": {
             "outlinewidth": 0,
             "ticks": ""
            },
            "colorscale": [
             [
              0,
              "#0d0887"
             ],
             [
              0.1111111111111111,
              "#46039f"
             ],
             [
              0.2222222222222222,
              "#7201a8"
             ],
             [
              0.3333333333333333,
              "#9c179e"
             ],
             [
              0.4444444444444444,
              "#bd3786"
             ],
             [
              0.5555555555555556,
              "#d8576b"
             ],
             [
              0.6666666666666666,
              "#ed7953"
             ],
             [
              0.7777777777777778,
              "#fb9f3a"
             ],
             [
              0.8888888888888888,
              "#fdca26"
             ],
             [
              1,
              "#f0f921"
             ]
            ],
            "type": "surface"
           }
          ],
          "table": [
           {
            "cells": {
             "fill": {
              "color": "#EBF0F8"
             },
             "line": {
              "color": "white"
             }
            },
            "header": {
             "fill": {
              "color": "#C8D4E3"
             },
             "line": {
              "color": "white"
             }
            },
            "type": "table"
           }
          ]
         },
         "layout": {
          "annotationdefaults": {
           "arrowcolor": "#2a3f5f",
           "arrowhead": 0,
           "arrowwidth": 1
          },
          "autotypenumbers": "strict",
          "coloraxis": {
           "colorbar": {
            "outlinewidth": 0,
            "ticks": ""
           }
          },
          "colorscale": {
           "diverging": [
            [
             0,
             "#8e0152"
            ],
            [
             0.1,
             "#c51b7d"
            ],
            [
             0.2,
             "#de77ae"
            ],
            [
             0.3,
             "#f1b6da"
            ],
            [
             0.4,
             "#fde0ef"
            ],
            [
             0.5,
             "#f7f7f7"
            ],
            [
             0.6,
             "#e6f5d0"
            ],
            [
             0.7,
             "#b8e186"
            ],
            [
             0.8,
             "#7fbc41"
            ],
            [
             0.9,
             "#4d9221"
            ],
            [
             1,
             "#276419"
            ]
           ],
           "sequential": [
            [
             0,
             "#0d0887"
            ],
            [
             0.1111111111111111,
             "#46039f"
            ],
            [
             0.2222222222222222,
             "#7201a8"
            ],
            [
             0.3333333333333333,
             "#9c179e"
            ],
            [
             0.4444444444444444,
             "#bd3786"
            ],
            [
             0.5555555555555556,
             "#d8576b"
            ],
            [
             0.6666666666666666,
             "#ed7953"
            ],
            [
             0.7777777777777778,
             "#fb9f3a"
            ],
            [
             0.8888888888888888,
             "#fdca26"
            ],
            [
             1,
             "#f0f921"
            ]
           ],
           "sequentialminus": [
            [
             0,
             "#0d0887"
            ],
            [
             0.1111111111111111,
             "#46039f"
            ],
            [
             0.2222222222222222,
             "#7201a8"
            ],
            [
             0.3333333333333333,
             "#9c179e"
            ],
            [
             0.4444444444444444,
             "#bd3786"
            ],
            [
             0.5555555555555556,
             "#d8576b"
            ],
            [
             0.6666666666666666,
             "#ed7953"
            ],
            [
             0.7777777777777778,
             "#fb9f3a"
            ],
            [
             0.8888888888888888,
             "#fdca26"
            ],
            [
             1,
             "#f0f921"
            ]
           ]
          },
          "colorway": [
           "#636efa",
           "#EF553B",
           "#00cc96",
           "#ab63fa",
           "#FFA15A",
           "#19d3f3",
           "#FF6692",
           "#B6E880",
           "#FF97FF",
           "#FECB52"
          ],
          "font": {
           "color": "#2a3f5f"
          },
          "geo": {
           "bgcolor": "white",
           "lakecolor": "white",
           "landcolor": "#E5ECF6",
           "showlakes": true,
           "showland": true,
           "subunitcolor": "white"
          },
          "hoverlabel": {
           "align": "left"
          },
          "hovermode": "closest",
          "mapbox": {
           "style": "light"
          },
          "paper_bgcolor": "white",
          "plot_bgcolor": "#E5ECF6",
          "polar": {
           "angularaxis": {
            "gridcolor": "white",
            "linecolor": "white",
            "ticks": ""
           },
           "bgcolor": "#E5ECF6",
           "radialaxis": {
            "gridcolor": "white",
            "linecolor": "white",
            "ticks": ""
           }
          },
          "scene": {
           "xaxis": {
            "backgroundcolor": "#E5ECF6",
            "gridcolor": "white",
            "gridwidth": 2,
            "linecolor": "white",
            "showbackground": true,
            "ticks": "",
            "zerolinecolor": "white"
           },
           "yaxis": {
            "backgroundcolor": "#E5ECF6",
            "gridcolor": "white",
            "gridwidth": 2,
            "linecolor": "white",
            "showbackground": true,
            "ticks": "",
            "zerolinecolor": "white"
           },
           "zaxis": {
            "backgroundcolor": "#E5ECF6",
            "gridcolor": "white",
            "gridwidth": 2,
            "linecolor": "white",
            "showbackground": true,
            "ticks": "",
            "zerolinecolor": "white"
           }
          },
          "shapedefaults": {
           "line": {
            "color": "#2a3f5f"
           }
          },
          "ternary": {
           "aaxis": {
            "gridcolor": "white",
            "linecolor": "white",
            "ticks": ""
           },
           "baxis": {
            "gridcolor": "white",
            "linecolor": "white",
            "ticks": ""
           },
           "bgcolor": "#E5ECF6",
           "caxis": {
            "gridcolor": "white",
            "linecolor": "white",
            "ticks": ""
           }
          },
          "title": {
           "x": 0.05
          },
          "xaxis": {
           "automargin": true,
           "gridcolor": "white",
           "linecolor": "white",
           "ticks": "",
           "title": {
            "standoff": 15
           },
           "zerolinecolor": "white",
           "zerolinewidth": 2
          },
          "yaxis": {
           "automargin": true,
           "gridcolor": "white",
           "linecolor": "white",
           "ticks": "",
           "title": {
            "standoff": 15
           },
           "zerolinecolor": "white",
           "zerolinewidth": 2
          }
         }
        },
        "title": {
         "text": "Log return of stock_id_0, time_id_5"
        },
        "xaxis": {
         "anchor": "y",
         "domain": [
          0,
          1
         ],
         "title": {
          "text": "seconds_in_bucket"
         }
        },
        "yaxis": {
         "anchor": "x",
         "domain": [
          0,
          1
         ],
         "title": {
          "text": "log_return"
         }
        }
       }
      }
     },
     "metadata": {},
     "output_type": "display_data"
    }
   ],
   "source": [
    "fig = px.line(book_example, x=\"seconds_in_bucket\", y=\"log_return\", title='Log return of stock_id_0, time_id_5')\n",
    "fig.show()"
   ]
  },
  {
   "cell_type": "code",
   "execution_count": 123,
   "metadata": {},
   "outputs": [
    {
     "name": "stdout",
     "output_type": "stream",
     "text": [
      "Realized volatility for stock_id 0 on time_id 5 is 0.004499364172786558\n"
     ]
    }
   ],
   "source": [
    "def realized_volatility(series_log_return):\n",
    "    return np.sqrt(np.sum(series_log_return**2))\n",
    "realized_vol = realized_volatility(book_example['log_return'])\n",
    "print(f\"Realized volatility for stock_id 0 on time_id 5 is {realized_vol}\")"
   ]
  },
  {
   "cell_type": "markdown",
   "metadata": {},
   "source": [
    "# Naive Prediction\n",
    "We know that volatility tends to be autocorrelated. Using this property, we can implement a naive model that predicts the realized volatility by using whatever the realized volatility was in the initial 10 minutes.\n",
    "\n",
    "Let's calculate the past realized volatility across the training set to see how predictive a single naive signal can be."
   ]
  },
  {
   "cell_type": "code",
   "execution_count": 124,
   "metadata": {},
   "outputs": [
    {
     "data": {
      "text/plain": [
       "112"
      ]
     },
     "execution_count": 124,
     "metadata": {},
     "output_type": "execute_result"
    }
   ],
   "source": [
    "list_order_book_file_train = glob.glob('input/book_train.parquet/*')\n",
    "len(list_order_book_file_train)"
   ]
  },
  {
   "cell_type": "markdown",
   "metadata": {},
   "source": [
    "Using the above output, we want to predict the short-term volatility for 112 stocks. We know that the data for this competition is partitionad by stock_id to better allow Kagglers to manage memory. So, we will attempt to calculate realized volatility stock by stock and then combine then into one submission file."
   ]
  },
  {
   "cell_type": "code",
   "execution_count": 125,
   "metadata": {},
   "outputs": [],
   "source": [
    "def realized_volatility_per_time_id(file_path, prediction_column_name):\n",
    "    df_book_data = pd.read_parquet(file_path)\n",
    "    df_book_data['wap'] = calculate_wap(df_book_data['bid_price1'], df_book_data['ask_price1'], df_book_data['bid_size1'], df_book_data['ask_size1'])\n",
    "    df_book_data['log_return'] = df_book_data.groupby(['time_id'])['wap'].transform(log_returns)\n",
    "    df_book_data = df_book_data[~df_book_data['log_return'].isnull()]\n",
    "    df_realized_vol_per_stock = pd.DataFrame(df_book_data.groupby(['time_id'])['log_return'].agg(realized_volatility)).reset_index()\n",
    "    df_realized_vol_per_stock = df_realized_vol_per_stock.rename(columns = {'log_return':prediction_column_name})\n",
    "    stock_id = file_path.split('=')[1]\n",
    "    df_realized_vol_per_stock['row_id'] = df_realized_vol_per_stock['time_id'].apply(lambda x: f'{stock_id}-{x}')\n",
    "    trade_feats = ['seconds_in_bucket']\n",
    "    trade_df = df_book_data.groupby(['time_id'])[trade_feats].agg(['mean', 'std', 'max', 'min']).reset_index()\n",
    "    return df_realized_vol_per_stock[['row_id', prediction_column_name]]"
   ]
  },
  {
   "cell_type": "code",
   "execution_count": 126,
   "metadata": {},
   "outputs": [],
   "source": [
    "def past_realized_volatility_per_stock(list_file, prediction_column_name):\n",
    "    df_past_realized = pd.DataFrame()\n",
    "    for file in list_file:\n",
    "        df_past_realized = pd.concat([df_past_realized, realized_volatility_per_time_id(file, prediction_column_name)])\n",
    "    return df_past_realized"
   ]
  },
  {
   "cell_type": "markdown",
   "metadata": {},
   "source": [
    "Handle it for one stock, then we loop through all 112 stocks to handle all"
   ]
  },
  {
   "cell_type": "markdown",
   "metadata": {},
   "source": [
    "STOCK ID: 17"
   ]
  },
  {
   "cell_type": "code",
   "execution_count": 133,
   "metadata": {},
   "outputs": [
    {
     "data": {
      "text/html": [
       "<div>\n",
       "<style scoped>\n",
       "    .dataframe tbody tr th:only-of-type {\n",
       "        vertical-align: middle;\n",
       "    }\n",
       "\n",
       "    .dataframe tbody tr th {\n",
       "        vertical-align: top;\n",
       "    }\n",
       "\n",
       "    .dataframe thead th {\n",
       "        text-align: right;\n",
       "    }\n",
       "</style>\n",
       "<table border=\"1\" class=\"dataframe\">\n",
       "  <thead>\n",
       "    <tr style=\"text-align: right;\">\n",
       "      <th></th>\n",
       "      <th>row_id</th>\n",
       "      <th>pred</th>\n",
       "    </tr>\n",
       "  </thead>\n",
       "  <tbody>\n",
       "    <tr>\n",
       "      <th>0</th>\n",
       "      <td>17-5</td>\n",
       "      <td>0.004091</td>\n",
       "    </tr>\n",
       "    <tr>\n",
       "      <th>1</th>\n",
       "      <td>17-11</td>\n",
       "      <td>0.002155</td>\n",
       "    </tr>\n",
       "    <tr>\n",
       "      <th>2</th>\n",
       "      <td>17-16</td>\n",
       "      <td>0.002566</td>\n",
       "    </tr>\n",
       "    <tr>\n",
       "      <th>3</th>\n",
       "      <td>17-31</td>\n",
       "      <td>0.002221</td>\n",
       "    </tr>\n",
       "    <tr>\n",
       "      <th>4</th>\n",
       "      <td>17-62</td>\n",
       "      <td>0.002155</td>\n",
       "    </tr>\n",
       "    <tr>\n",
       "      <th>...</th>\n",
       "      <td>...</td>\n",
       "      <td>...</td>\n",
       "    </tr>\n",
       "    <tr>\n",
       "      <th>3825</th>\n",
       "      <td>17-32751</td>\n",
       "      <td>0.003227</td>\n",
       "    </tr>\n",
       "    <tr>\n",
       "      <th>3826</th>\n",
       "      <td>17-32753</td>\n",
       "      <td>0.002969</td>\n",
       "    </tr>\n",
       "    <tr>\n",
       "      <th>3827</th>\n",
       "      <td>17-32758</td>\n",
       "      <td>0.002157</td>\n",
       "    </tr>\n",
       "    <tr>\n",
       "      <th>3828</th>\n",
       "      <td>17-32763</td>\n",
       "      <td>0.003487</td>\n",
       "    </tr>\n",
       "    <tr>\n",
       "      <th>3829</th>\n",
       "      <td>17-32767</td>\n",
       "      <td>0.001638</td>\n",
       "    </tr>\n",
       "  </tbody>\n",
       "</table>\n",
       "<p>3830 rows × 2 columns</p>\n",
       "</div>"
      ],
      "text/plain": [
       "        row_id      pred\n",
       "0         17-5  0.004091\n",
       "1        17-11  0.002155\n",
       "2        17-16  0.002566\n",
       "3        17-31  0.002221\n",
       "4        17-62  0.002155\n",
       "...        ...       ...\n",
       "3825  17-32751  0.003227\n",
       "3826  17-32753  0.002969\n",
       "3827  17-32758  0.002157\n",
       "3828  17-32763  0.003487\n",
       "3829  17-32767  0.001638\n",
       "\n",
       "[3830 rows x 2 columns]"
      ]
     },
     "execution_count": 133,
     "metadata": {},
     "output_type": "execute_result"
    }
   ],
   "source": [
    "file_path = list_order_book_file_train[0]\n",
    "dfpast_realized_train = realized_volatility_per_time_id(file_path, prediction_column_name='pred')\n",
    "dfpast_realized_train"
   ]
  },
  {
   "cell_type": "markdown",
   "metadata": {},
   "source": [
    "STOCK ID: 28"
   ]
  },
  {
   "cell_type": "code",
   "execution_count": 134,
   "metadata": {},
   "outputs": [
    {
     "data": {
      "text/html": [
       "<div>\n",
       "<style scoped>\n",
       "    .dataframe tbody tr th:only-of-type {\n",
       "        vertical-align: middle;\n",
       "    }\n",
       "\n",
       "    .dataframe tbody tr th {\n",
       "        vertical-align: top;\n",
       "    }\n",
       "\n",
       "    .dataframe thead th {\n",
       "        text-align: right;\n",
       "    }\n",
       "</style>\n",
       "<table border=\"1\" class=\"dataframe\">\n",
       "  <thead>\n",
       "    <tr style=\"text-align: right;\">\n",
       "      <th></th>\n",
       "      <th>row_id</th>\n",
       "      <th>pred</th>\n",
       "    </tr>\n",
       "  </thead>\n",
       "  <tbody>\n",
       "    <tr>\n",
       "      <th>0</th>\n",
       "      <td>28-5</td>\n",
       "      <td>0.003506</td>\n",
       "    </tr>\n",
       "    <tr>\n",
       "      <th>1</th>\n",
       "      <td>28-11</td>\n",
       "      <td>0.002301</td>\n",
       "    </tr>\n",
       "    <tr>\n",
       "      <th>2</th>\n",
       "      <td>28-16</td>\n",
       "      <td>0.001943</td>\n",
       "    </tr>\n",
       "    <tr>\n",
       "      <th>3</th>\n",
       "      <td>28-31</td>\n",
       "      <td>0.002660</td>\n",
       "    </tr>\n",
       "    <tr>\n",
       "      <th>4</th>\n",
       "      <td>28-62</td>\n",
       "      <td>0.001169</td>\n",
       "    </tr>\n",
       "    <tr>\n",
       "      <th>...</th>\n",
       "      <td>...</td>\n",
       "      <td>...</td>\n",
       "    </tr>\n",
       "    <tr>\n",
       "      <th>3825</th>\n",
       "      <td>28-32751</td>\n",
       "      <td>0.002121</td>\n",
       "    </tr>\n",
       "    <tr>\n",
       "      <th>3826</th>\n",
       "      <td>28-32753</td>\n",
       "      <td>0.001796</td>\n",
       "    </tr>\n",
       "    <tr>\n",
       "      <th>3827</th>\n",
       "      <td>28-32758</td>\n",
       "      <td>0.002111</td>\n",
       "    </tr>\n",
       "    <tr>\n",
       "      <th>3828</th>\n",
       "      <td>28-32763</td>\n",
       "      <td>0.002089</td>\n",
       "    </tr>\n",
       "    <tr>\n",
       "      <th>3829</th>\n",
       "      <td>28-32767</td>\n",
       "      <td>0.001086</td>\n",
       "    </tr>\n",
       "  </tbody>\n",
       "</table>\n",
       "<p>3830 rows × 2 columns</p>\n",
       "</div>"
      ],
      "text/plain": [
       "        row_id      pred\n",
       "0         28-5  0.003506\n",
       "1        28-11  0.002301\n",
       "2        28-16  0.001943\n",
       "3        28-31  0.002660\n",
       "4        28-62  0.001169\n",
       "...        ...       ...\n",
       "3825  28-32751  0.002121\n",
       "3826  28-32753  0.001796\n",
       "3827  28-32758  0.002111\n",
       "3828  28-32763  0.002089\n",
       "3829  28-32767  0.001086\n",
       "\n",
       "[3830 rows x 2 columns]"
      ]
     },
     "execution_count": 134,
     "metadata": {},
     "output_type": "execute_result"
    }
   ],
   "source": [
    "file_path = list_order_book_file_train[1]\n",
    "dfpast_realized_train = realized_volatility_per_time_id(file_path, prediction_column_name='pred')\n",
    "dfpast_realized_train"
   ]
  },
  {
   "cell_type": "markdown",
   "metadata": {},
   "source": [
    "Sort the list of file paths based on stock_id int value"
   ]
  },
  {
   "cell_type": "code",
   "execution_count": 137,
   "metadata": {},
   "outputs": [],
   "source": [
    "list_order_book_file_train = sorted(list_order_book_file_train, key = lambda x: int(x.split('=')[1]))"
   ]
  },
  {
   "cell_type": "markdown",
   "metadata": {},
   "source": [
    "Compute past realized volatility for all stocks"
   ]
  },
  {
   "cell_type": "code",
   "execution_count": 138,
   "metadata": {},
   "outputs": [
    {
     "data": {
      "text/html": [
       "<div>\n",
       "<style scoped>\n",
       "    .dataframe tbody tr th:only-of-type {\n",
       "        vertical-align: middle;\n",
       "    }\n",
       "\n",
       "    .dataframe tbody tr th {\n",
       "        vertical-align: top;\n",
       "    }\n",
       "\n",
       "    .dataframe thead th {\n",
       "        text-align: right;\n",
       "    }\n",
       "</style>\n",
       "<table border=\"1\" class=\"dataframe\">\n",
       "  <thead>\n",
       "    <tr style=\"text-align: right;\">\n",
       "      <th></th>\n",
       "      <th>row_id</th>\n",
       "      <th>pred</th>\n",
       "    </tr>\n",
       "  </thead>\n",
       "  <tbody>\n",
       "    <tr>\n",
       "      <th>0</th>\n",
       "      <td>0-5</td>\n",
       "      <td>0.004499</td>\n",
       "    </tr>\n",
       "    <tr>\n",
       "      <th>1</th>\n",
       "      <td>0-11</td>\n",
       "      <td>0.001204</td>\n",
       "    </tr>\n",
       "    <tr>\n",
       "      <th>2</th>\n",
       "      <td>0-16</td>\n",
       "      <td>0.002369</td>\n",
       "    </tr>\n",
       "    <tr>\n",
       "      <th>3</th>\n",
       "      <td>0-31</td>\n",
       "      <td>0.002574</td>\n",
       "    </tr>\n",
       "    <tr>\n",
       "      <th>4</th>\n",
       "      <td>0-62</td>\n",
       "      <td>0.001894</td>\n",
       "    </tr>\n",
       "    <tr>\n",
       "      <th>...</th>\n",
       "      <td>...</td>\n",
       "      <td>...</td>\n",
       "    </tr>\n",
       "    <tr>\n",
       "      <th>3825</th>\n",
       "      <td>126-32751</td>\n",
       "      <td>0.003691</td>\n",
       "    </tr>\n",
       "    <tr>\n",
       "      <th>3826</th>\n",
       "      <td>126-32753</td>\n",
       "      <td>0.004104</td>\n",
       "    </tr>\n",
       "    <tr>\n",
       "      <th>3827</th>\n",
       "      <td>126-32758</td>\n",
       "      <td>0.003117</td>\n",
       "    </tr>\n",
       "    <tr>\n",
       "      <th>3828</th>\n",
       "      <td>126-32763</td>\n",
       "      <td>0.003661</td>\n",
       "    </tr>\n",
       "    <tr>\n",
       "      <th>3829</th>\n",
       "      <td>126-32767</td>\n",
       "      <td>0.002092</td>\n",
       "    </tr>\n",
       "  </tbody>\n",
       "</table>\n",
       "<p>428932 rows × 2 columns</p>\n",
       "</div>"
      ],
      "text/plain": [
       "         row_id      pred\n",
       "0           0-5  0.004499\n",
       "1          0-11  0.001204\n",
       "2          0-16  0.002369\n",
       "3          0-31  0.002574\n",
       "4          0-62  0.001894\n",
       "...         ...       ...\n",
       "3825  126-32751  0.003691\n",
       "3826  126-32753  0.004104\n",
       "3827  126-32758  0.003117\n",
       "3828  126-32763  0.003661\n",
       "3829  126-32767  0.002092\n",
       "\n",
       "[428932 rows x 2 columns]"
      ]
     },
     "execution_count": 138,
     "metadata": {},
     "output_type": "execute_result"
    }
   ],
   "source": [
    "dfpast_realized_train = past_realized_volatility_per_stock(list_order_book_file_train, prediction_column_name='pred')\n",
    "dfpast_realized_train"
   ]
  },
  {
   "cell_type": "markdown",
   "metadata": {},
   "source": [
    "We were able to predict volatility for 112 stocks using naive prediction. We must now use 2 evaluation metrics to evaluate this result: RMSPE and R Squared\n",
    "\n",
    "RMSPE: "
   ]
  }
 ],
 "metadata": {
  "kernelspec": {
   "display_name": "kaggle-env",
   "language": "python",
   "name": "python3"
  },
  "language_info": {
   "codemirror_mode": {
    "name": "ipython",
    "version": 3
   },
   "file_extension": ".py",
   "mimetype": "text/x-python",
   "name": "python",
   "nbconvert_exporter": "python",
   "pygments_lexer": "ipython3",
   "version": "3.13.2"
  }
 },
 "nbformat": 4,
 "nbformat_minor": 2
}
